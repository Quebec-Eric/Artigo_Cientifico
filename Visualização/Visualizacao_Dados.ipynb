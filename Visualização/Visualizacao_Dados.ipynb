{
 "cells": [
  {
   "cell_type": "code",
   "execution_count": null,
   "metadata": {},
   "outputs": [],
   "source": [
    "# Importações Necessárias\n",
    "import pandas as pd\n",
    "import matplotlib.pyplot as plt\n",
    "import numpy as np\n",
    "import seaborn as sns\n",
    "import folium\n"
   ]
  },
  {
   "cell_type": "code",
   "execution_count": null,
   "metadata": {},
   "outputs": [],
   "source": [
    "# Carregamento dos Dados\n",
    "db = pd.read_csv(\"BaseDados/alterado.csv\")"
   ]
  },
  {
   "cell_type": "code",
   "execution_count": null,
   "metadata": {},
   "outputs": [],
   "source": [
    "# Histograma de Idades dos Agressores\n",
    "plt.figure(figsize=(5, 3))\n",
    "dd = db['AGE']  # Extração da coluna de idades\n",
    "plt.hist(dd, bins=10, range=(0, 100), color='#D3D3D3', edgecolor='black')\n",
    "plt.title(\"Levantamento De Agressores Por Faixa Etária\", fontsize=15, fontweight='bold')\n",
    "plt.xlabel('Idade', fontsize=12)\n",
    "plt.ylabel('Quantidade', fontsize=12)\n",
    "plt.gca().spines['top'].set_visible(False)\n",
    "plt.gca().spines['right'].set_visible(False)\n",
    "plt.grid(color='gray', linestyle='--', linewidth=0.5, axis='y', alpha=0.7)\n",
    "plt.show()"
   ]
  },
  {
   "cell_type": "code",
   "execution_count": null,
   "metadata": {},
   "outputs": [],
   "source": [
    "# Boxplot da Distribuição de Idades\n",
    "db['AGE'] = pd.to_numeric(db['AGE'], errors='coerce')  # Conversão da coluna 'AGE' para numérico\n",
    "plt.figure(figsize=(10, 6))\n",
    "plt.boxplot(db['AGE'].dropna(), patch_artist=True, boxprops=dict(facecolor='#D3D3D3'), medianprops=dict(color=\"black\"))\n",
    "plt.title(\"Distribuição de Idades dos Agressores\", fontsize=15, fontweight='bold')\n",
    "plt.xticks([1], ['Idade'])\n",
    "plt.ylabel('Idade', fontsize=12)\n",
    "plt.gca().spines['top'].set_visible(False)\n",
    "plt.gca().spines['right'].set_visible(False)\n",
    "plt.grid(color='gray', linestyle='--', linewidth=0.5, axis='y', alpha=0.7)\n",
    "plt.show()"
   ]
  },
  {
   "cell_type": "code",
   "execution_count": null,
   "metadata": {},
   "outputs": [],
   "source": [
    "# Gráfico de Barras de Agressores por Sexo\n",
    "db['GENDER'].value_counts().plot.bar(figsize=(5, 4), color=['#D3D3D3', '#A9A9A9'], edgecolor='black')\n",
    "plt.title(\"Levantamento de Agressores Por Sexo\", fontsize=15, fontweight='bold', color=\"black\")\n",
    "plt.ylabel('Quantidade', fontsize=12)\n",
    "plt.xticks(rotation=0, fontsize=11)\n",
    "plt.yticks(fontsize=11)\n",
    "plt.gca().spines['top'].set_visible(False)\n",
    "plt.gca().spines['right'].set_visible(False)\n",
    "plt.grid(color='gray', linestyle='--', linewidth=0.5, axis='y', alpha=0.7)\n",
    "plt.show()"
   ]
  },
  {
   "cell_type": "code",
   "execution_count": null,
   "metadata": {},
   "outputs": [],
   "source": [
    "# Gráfico de Barras de Vítimas Menores\n",
    "tt = db['VICTIM MINOR'].value_counts()\n",
    "tt.plot.bar(figsize=(10, 6))\n",
    "plt.title(\"Levantamento Se As Vítimas Dos Agressores Eram Menores Ou Não\", fontsize=15, color=\"blue\")\n",
    "plt.ylabel('Quantidade')\n",
    "plt.xticks(rotation=0)\n",
    "plt.show()"
   ]
  },
  {
   "cell_type": "code",
   "execution_count": null,
   "metadata": {},
   "outputs": [],
   "source": [
    "# Gráfico de Barras da Existência de Praças\n",
    "dados_coluna = db['Existencia de Pracas']\n",
    "dados_coluna.value_counts().plot.bar(figsize=(10, 6))\n",
    "plt.title(\"Existência de Praças Próximas\", fontsize=15, color=\"blue\")\n",
    "plt.ylabel('Quantidade')\n",
    "plt.xlabel('Existência')\n",
    "plt.xticks(rotation=0)\n",
    "plt.show()\n"
   ]
  },
  {
   "cell_type": "code",
   "execution_count": null,
   "metadata": {},
   "outputs": [],
   "source": [
    "# Visualização de Linha entre Dois Pontos no Mapa\n",
    "latitude_inicial = db['LAT'].mean()\n",
    "longitude_inicial = db['LONG'].mean()\n",
    "mapa = folium.Map(location=[latitude_inicial, longitude_inicial], zoom_start=12)\n",
    "coordenadas = [[db['LAT'].iloc[0], db['LONG'].iloc[0]], [db['LAT'].iloc[100], db['LONG'].iloc[100]]]\n",
    "linha = folium.PolyLine(locations=coordenadas, color='red').add_to(mapa)\n",
    "folium.Popup('Linha entre os pontos').add_to(linha)\n",
    "mapa"
   ]
  },
  {
   "cell_type": "code",
   "execution_count": null,
   "metadata": {},
   "outputs": [],
   "source": [
    "# Carregamento da Base de Dados\n",
    "df = pd.read_csv('ParaClasificacao.csv')"
   ]
  },
  {
   "cell_type": "code",
   "execution_count": null,
   "metadata": {},
   "outputs": [],
   "source": [
    "# Visualização da Comparação entre Dados Iniciais e Finais\n",
    "plt.figure(figsize=(10, 6))\n",
    "estagios = ['Inicial', 'Final']\n",
    "linhas = [3120, 1924]\n",
    "colunas = [8, 17]\n",
    "fig, ax1 = plt.subplots()\n",
    "ax2 = ax1.twinx()\n",
    "ax1.bar(estagios, linhas, color='#D3D3D3', width=0.4, label='Linhas', align='center')\n",
    "ax2.bar(estagios, colunas, color='#A9A9A9', width=0.4, label='Colunas', align='edge')\n",
    "ax1.set_title('Comparação entre Dados Iniciais e Finais', fontsize=15, fontweight='bold')\n",
    "ax1.set_xlabel('Estágio dos Dados')\n",
    "ax1.set_ylabel('Quantidade de Linhas', color='#D3D3D3')\n",
    "ax2.set_ylabel('Quantidade de Colunas', color='#A9A9A9')\n",
    "ax1.tick_params(axis='y', colors='#D3D3D3')\n",
    "ax2.tick_params(axis='y', colors='#A9A9A9')\n",
    "ax1.legend(loc='upper left')\n",
    "ax2.legend(loc='upper right')\n",
    "ax1.spines['top'].set_visible(False)\n",
    "ax2.spines['top'].set_visible(False)\n",
    "plt.show()"
   ]
  },
  {
   "cell_type": "code",
   "execution_count": null,
   "metadata": {},
   "outputs": [],
   "source": [
    "# Visualização da Distribuição de Variáveis Numéricas\n",
    "\n",
    "variaveis = ['AGE', 'HEIGHT', 'WEIGHT']\n",
    "titulos = ['Distribuição da idade', 'Distribuição da altura', 'Distribuição do peso']\n",
    "eixos_x = ['Idade', 'Altura', 'Peso']\n",
    "for var, titulo, eixo_x in zip(variaveis, titulos, eixos_x):\n",
    "    plt.hist(df[var], bins=20)\n",
    "    plt.title(titulo)\n",
    "    plt.xlabel(eixo_x)\n",
    "    plt.ylabel('Frequência')\n",
    "    plt.show()"
   ]
  },
  {
   "cell_type": "code",
   "execution_count": null,
   "metadata": {},
   "outputs": [],
   "source": [
    "# Visualização da Distribuição dos Valores em Colunas Categóricas\n",
    "df['RACE'].value_counts().plot(kind='bar')\n",
    "plt.title('Distribuição dos Valores na Coluna RACE')\n",
    "plt.xlabel('RACE')\n",
    "plt.ylabel('Frequência')\n",
    "plt.show()"
   ]
  },
  {
   "cell_type": "code",
   "execution_count": null,
   "metadata": {},
   "outputs": [],
   "source": [
    "plt.scatter(df['LONG'], df['LAT'])\n",
    "plt.title('Relação entre a Latitude e Longitude do Crime')\n",
    "plt.xlabel('Longitude')\n",
    "plt.ylabel('Latitude')\n",
    "plt.show()\n"
   ]
  },
  {
   "cell_type": "code",
   "execution_count": null,
   "metadata": {},
   "outputs": [],
   "source": [
    "# Visualizações com Seaborn\n",
    "\n",
    "sns.displot(df, x=\"AGE\", kde=True)\n",
    "sns.displot(df, x=\"HEIGHT\", kde=True)\n",
    "sns.displot(df, x=\"WEIGHT\", kde=True)\n",
    "sns.displot(df, x=\"LAT\", kde=True)\n",
    "sns.displot(df, x=\"LONG\", kde=True)\n",
    "sns.countplot(x=\"Existencia de Pracas\", data=df)\n",
    "\n",
    "sns.pairplot(df[['HEIGHT', 'WEIGHT', 'AGE', 'LAT', 'LONG']])\n",
    "plt.show()"
   ]
  },
  {
   "cell_type": "code",
   "execution_count": null,
   "metadata": {},
   "outputs": [],
   "source": [
    "# Matriz de Correlação\n",
    "\n",
    "corr = df.corr()\n",
    "mask = np.triu(np.ones_like(corr, dtype=bool))\n",
    "plt.figure(figsize=(12, 8))\n",
    "sns.heatmap(corr, cmap='coolwarm', annot=True, fmt='.2f', vmin=-1, vmax=1, mask=mask)\n",
    "plt.title('Matriz de Correlação', fontsize=16)\n",
    "plt.xticks(fontsize=12)\n",
    "plt.yticks(fontsize=12)\n",
    "plt.show()"
   ]
  }
 ],
 "metadata": {
  "kernelspec": {
   "display_name": "Python 3",
   "language": "python",
   "name": "python3"
  },
  "language_info": {
   "name": "python",
   "version": "3.10.12"
  }
 },
 "nbformat": 4,
 "nbformat_minor": 2
}
