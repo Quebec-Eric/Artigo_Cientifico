{
 "cells": [
  {
   "cell_type": "code",
   "execution_count": null,
   "metadata": {},
   "outputs": [],
   "source": [
    "# Importação das Bibliotecas Necessárias\n",
    "import pandas as pd\n",
    "from sklearn.preprocessing import StandardScaler\n",
    "from sklearn.cluster import KMeans\n",
    "from sklearn.metrics import silhouette_score\n",
    "import matplotlib.pyplot as plt\n",
    "from matplotlib.patches import Ellipse\n",
    "import numpy as np\n",
    "import seaborn as sns\n"
   ]
  },
  {
   "cell_type": "code",
   "execution_count": null,
   "metadata": {},
   "outputs": [],
   "source": [
    "# Carregamento da Base de Dados\n",
    "df = pd.read_csv('BaseDados/ParaClasificacao.csv')"
   ]
  },
  {
   "cell_type": "code",
   "execution_count": null,
   "metadata": {},
   "outputs": [],
   "source": [
    "# Preparação dos Dados para Clustering\n",
    "X = df[['LAT', 'LONG', 'Existencia de Pracas', 'RACE Int', 'Crime', 'AGE Superior', 'VICTIM MINOR']].values"
   ]
  },
  {
   "cell_type": "code",
   "execution_count": null,
   "metadata": {},
   "outputs": [],
   "source": [
    "# Normalização dos Dados\n",
    "scaler = StandardScaler()\n",
    "data_scaled = scaler.fit_transform(X)"
   ]
  },
  {
   "cell_type": "code",
   "execution_count": null,
   "metadata": {},
   "outputs": [],
   "source": [
    "num_clusters = 5\n",
    "kmeans = KMeans(n_clusters=num_clusters, random_state=42)\n",
    "kmeans.fit(data_scaled)"
   ]
  },
  {
   "cell_type": "code",
   "execution_count": null,
   "metadata": {},
   "outputs": [],
   "source": [
    "silhouette_avg = silhouette_score(data_scaled, kmeans.labels_)\n",
    "print(f\"A medida de Silhouette para {num_clusters} clusters é {silhouette_avg:.2f}\")\n"
   ]
  },
  {
   "cell_type": "code",
   "execution_count": null,
   "metadata": {},
   "outputs": [],
   "source": [
    "# Exibição das Coordenadas dos Centróides\n",
    "labels = kmeans.labels_\n",
    "centroids = kmeans.cluster_centers_\n"
   ]
  },
  {
   "cell_type": "code",
   "execution_count": null,
   "metadata": {},
   "outputs": [],
   "source": [
    "# Visualização das Características Predominantes de Cada Cluster\n",
    "feature_names = ['LAT', 'LONG', 'Existencia de Pracas', 'RACE Int', 'Crime', 'AGE Superior', 'VICTIM MINOR']\n",
    "for i in range(num_clusters):\n",
    "    print(f\"Cluster {i}:\")\n",
    "    for j in range(len(feature_names)):\n",
    "        print(f\"- Média de {feature_names[j]}: {centroids[i][j]:.2f}\")\n",
    "    print()\n"
   ]
  },
  {
   "cell_type": "code",
   "execution_count": null,
   "metadata": {},
   "outputs": [],
   "source": [
    "# Configuração do gráfico \n",
    "plt.figure(figsize=(10, 8))\n",
    "palette = sns.color_palette(\"husl\", num_clusters)"
   ]
  },
  {
   "cell_type": "code",
   "execution_count": null,
   "metadata": {},
   "outputs": [],
   "source": [
    "# Plotagem dos pontos de cada cluster\n",
    "for i, label in enumerate(np.unique(labels)):\n",
    "    subset = data_scaled[labels == label]\n",
    "    plt.scatter(subset[:, 0], subset[:, 1], c=np.array([palette[i]]), label=f'Cluster {label}', edgecolor='black', linewidth=0.5, s=50, alpha=0.7)\n",
    "\n",
    "plt.scatter(centroids[:, 0], centroids[:, 1], marker='x', s=200, linewidths=3, color='black', zorder=10, label='Centróides')\n",
    "\n",
    "for centroid in centroids:\n",
    "    ellipse = Ellipse(xy=centroid, width=0.2, height=0.1, edgecolor='red', fc='None', lw=2)\n",
    "    plt.gca().add_patch(ellipse)\n",
    "\n",
    "plt.title('Visualização dos Clusters K-Means', fontsize=16)\n",
    "plt.xlabel('X-Coordenada', fontsize=14)\n",
    "plt.ylabel('Y-Coordenada', fontsize=14)\n",
    "plt.legend(title='Legenda', loc='upper right')\n",
    "plt.tight_layout()\n",
    "plt.show()"
   ]
  }
 ],
 "metadata": {
  "language_info": {
   "name": "python"
  }
 },
 "nbformat": 4,
 "nbformat_minor": 2
}
