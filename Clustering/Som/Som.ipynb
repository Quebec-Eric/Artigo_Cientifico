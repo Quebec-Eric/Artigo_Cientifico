{
 "cells": [
  {
   "cell_type": "code",
   "execution_count": null,
   "metadata": {},
   "outputs": [],
   "source": [
    "# Importação das Bibliotecas Necessárias\n",
    "import pandas as pd\n",
    "from sklearn.preprocessing import StandardScaler\n",
    "from minisom import MiniSom\n",
    "import matplotlib.pyplot as plt\n",
    "import numpy as np\n",
    "from matplotlib.colors import LinearSegmentedColormap"
   ]
  },
  {
   "cell_type": "code",
   "execution_count": null,
   "metadata": {},
   "outputs": [],
   "source": [
    "df = pd.read_csv('BaseDados/ParaClasificacao.csv')\n",
    "data = df[['LAT', 'LONG', 'Existencia de Pracas', 'RACE Int', 'Crime', 'AGE Superior', 'VICTIM MINOR']].values\n"
   ]
  },
  {
   "cell_type": "code",
   "execution_count": null,
   "metadata": {},
   "outputs": [],
   "source": [
    "# Normalização dos Dados\n",
    "scaler = StandardScaler()\n",
    "data_scaled = scaler.fit_transform(data)"
   ]
  },
  {
   "cell_type": "code",
   "execution_count": null,
   "metadata": {},
   "outputs": [],
   "source": [
    "# Configuração e Treinamento do SOM\n",
    "dim = 15\n",
    "som = MiniSom(dim, dim, data_scaled.shape[1], sigma=0.793, learning_rate=0.8)\n",
    "som.train(data_scaled, 5000)"
   ]
  },
  {
   "cell_type": "code",
   "execution_count": null,
   "metadata": {},
   "outputs": [],
   "source": [
    "# U-matrix\n",
    "plt.figure(figsize=(20, 20))\n",
    "umatrix = som.distance_map()\n",
    "plt.pcolor(umatrix, cmap='bone_r')  \n",
    "plt.colorbar()\n",
    "plt.title('U-matrix')\n",
    "plt.show()"
   ]
  },
  {
   "cell_type": "code",
   "execution_count": null,
   "metadata": {},
   "outputs": [],
   "source": [
    "# Heatmap de Atributos Específicos\n",
    "plt.figure(figsize=(10, 10))\n",
    "heatmap = np.zeros((dim, dim, data_scaled.shape[1]))\n",
    "for i, x in enumerate(data_scaled):\n",
    "    w = som.winner(x)\n",
    "    heatmap[w[0], w[1]] += x\n",
    "for i in range(dim):\n",
    "    for j in range(dim):\n",
    "        plt.text(j+0.5, i+0.5, str(int(heatmap[i,j,-1])), ha='center', va='center', fontsize=10)\n",
    "plt.imshow(heatmap[:, :, -1], cmap='hot', interpolation='none') \n",
    "plt.colorbar()\n",
    "plt.title('Heatmap')\n",
    "plt.show()"
   ]
  },
  {
   "cell_type": "code",
   "execution_count": null,
   "metadata": {},
   "outputs": [],
   "source": [
    "# Visualização das Componentes do SOM\n",
    "plt.figure(figsize=(10, 10))\n",
    "for i in range(data_scaled.shape[1]):\n",
    "    plt.subplot(3, 4, i+1)\n",
    "    plt.imshow(som.get_weights()[:, :, i], cmap='gray', interpolation='none')\n",
    "    plt.title(f'Component {i+1}')\n",
    "plt.tight_layout()\n",
    "plt.show()"
   ]
  },
  {
   "cell_type": "code",
   "execution_count": null,
   "metadata": {},
   "outputs": [],
   "source": [
    "umatrix = np.random.rand(15, 15) \n",
    "colors = [\"#440154\", \"#404387\", \"#29788E\", \"#22A784\", \"#79D151\", \"#FDE725\"]\n",
    "cm = LinearSegmentedColormap.from_list('my_list', colors, N=100)"
   ]
  },
  {
   "cell_type": "code",
   "execution_count": null,
   "metadata": {},
   "outputs": [],
   "source": [
    "plt.figure(figsize=(10, 8))\n",
    "plt.imshow(umatrix, cmap=cm)\n",
    "cbar = plt.colorbar()\n",
    "cbar.set_label('Dissimilaridade entre neurônios', rotation=270, labelpad=20)\n",
    "plt.title('Matriz U com Contraste Acentuado', fontsize=16)\n",
    "plt.xlabel('Índice do Neurônio no Eixo X', fontsize=12)\n",
    "plt.ylabel('Índice do Neurônio no Eixo Y', fontsize=12)\n",
    "plt.tight_layout()\n",
    "plt.show()"
   ]
  }
 ],
 "metadata": {
  "language_info": {
   "name": "python"
  }
 },
 "nbformat": 4,
 "nbformat_minor": 2
}
