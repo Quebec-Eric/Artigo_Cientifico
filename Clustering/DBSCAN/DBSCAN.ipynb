{
 "cells": [
  {
   "cell_type": "code",
   "execution_count": null,
   "metadata": {},
   "outputs": [],
   "source": [
    "# Importação das Bibliotecas Necessárias\n",
    "from sklearn.cluster import DBSCAN\n",
    "from sklearn.preprocessing import StandardScaler\n",
    "from sklearn.metrics import silhouette_score, davies_bouldin_score\n",
    "import numpy as np\n",
    "import matplotlib.pyplot as plt\n",
    "import pandas as pd\n",
    "from mpl_toolkits.mplot3d import Axes3D"
   ]
  },
  {
   "cell_type": "code",
   "execution_count": null,
   "metadata": {},
   "outputs": [],
   "source": [
    "df = pd.read_csv('BaseDados/ParaClasificacao.csv')\n",
    "X = df[['LAT', 'LONG', 'Existencia de Pracas', 'RACE Int', 'Crime', 'AGE Superior', 'VICTIM MINOR']].values\n"
   ]
  },
  {
   "cell_type": "code",
   "execution_count": null,
   "metadata": {},
   "outputs": [],
   "source": [
    "# Normalização dos Dados\n",
    "scaler = StandardScaler()\n",
    "data_scaled = scaler.fit_transform(X)"
   ]
  },
  {
   "cell_type": "code",
   "execution_count": null,
   "metadata": {},
   "outputs": [],
   "source": [
    "# Aplicação do DBSCAN\n",
    "dbscan = DBSCAN(eps=0.8, min_samples=5)\n",
    "dbscan.fit(data_scaled)"
   ]
  },
  {
   "cell_type": "code",
   "execution_count": null,
   "metadata": {},
   "outputs": [],
   "source": [
    "# Obtenção dos Rótulos dos Clusters\n",
    "labels = dbscan.labels_"
   ]
  },
  {
   "cell_type": "code",
   "execution_count": null,
   "metadata": {},
   "outputs": [],
   "source": [
    "# Avaliação da Qualidade do Agrupamento\n",
    "silhouette = silhouette_score(data_scaled, labels)\n",
    "db_index = davies_bouldin_score(data_scaled, labels)\n",
    "print(f\"Pontuação de Silhueta: {silhouette}\")\n",
    "print(f\"Índice de Davies-Bouldin: {db_index}\")"
   ]
  },
  {
   "cell_type": "code",
   "execution_count": null,
   "metadata": {},
   "outputs": [],
   "source": [
    "# Análise de Características dos Grupos\n",
    "unique_labels = np.unique(labels)\n",
    "for label in unique_labels:\n",
    "    if label != -1:  # Ignora o ruído\n",
    "        mean_features = np.mean(X[labels == label], axis=0)\n",
    "        median_features = np.median(X[labels == label], axis=0)\n",
    "        print(f\"Grupo {label}:\")\n",
    "        print(f\"  Média das características: {mean_features}\")\n",
    "        print(f\"  Mediana das características: {median_features}\\n\")"
   ]
  },
  {
   "cell_type": "code",
   "execution_count": null,
   "metadata": {},
   "outputs": [],
   "source": [
    "# Visualização 3D dos Clusters\n",
    "fig = plt.figure()\n",
    "ax = fig.add_subplot(111, projection='3d')\n",
    "ax.scatter(data_scaled[:, 0], data_scaled[:, 1], data_scaled[:, 2], c=labels, cmap='viridis', alpha=0.5)\n",
    "ax.set_title('DBSCAN Clustering')\n",
    "ax.set_xlabel('Eixo X')\n",
    "ax.set_ylabel('Eixo Y')\n",
    "ax.set_zlabel('Eixo Z')\n",
    "plt.show()"
   ]
  }
 ],
 "metadata": {
  "language_info": {
   "name": "python"
  }
 },
 "nbformat": 4,
 "nbformat_minor": 2
}
