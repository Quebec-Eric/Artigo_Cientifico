{
 "cells": [
  {
   "cell_type": "markdown",
   "metadata": {},
   "source": [
    "#Pré-processamento dos dados da base de dados Crimes.csv"
   ]
  },
  {
   "cell_type": "code",
   "execution_count": null,
   "metadata": {},
   "outputs": [],
   "source": [
    "# Importação da Biblioteca Necessária\n",
    "import pandas as pd"
   ]
  },
  {
   "cell_type": "code",
   "execution_count": null,
   "metadata": {},
   "outputs": [],
   "source": [
    "# Carregamento da Base de Dados de Crimes\n",
    "\n",
    "Crimes = pd.read_csv(\"Crimes.csv\")\n",
    "Crimes.head()"
   ]
  },
  {
   "cell_type": "code",
   "execution_count": null,
   "metadata": {},
   "outputs": [],
   "source": [
    "# Análise Inicial da Estrutura da Base de Dados\n",
    "Crimes.info(memory_usage='deep')"
   ]
  },
  {
   "cell_type": "code",
   "execution_count": null,
   "metadata": {},
   "outputs": [],
   "source": [
    "# Remoção de Colunas Insignificantes\n",
    "Crimes = Crimes.drop(axis='columns', columns=['ID', 'Case Number', 'IUCR', 'Ward', 'Community Area', 'FBI Code', \n",
    "                                               'X Coordinate', 'Y Coordinate', 'Year', 'Updated On', 'Location', 'Date', 'District', 'Beat', 'Arrest'])\n",
    "Crimes.head()"
   ]
  },
  {
   "cell_type": "code",
   "execution_count": null,
   "metadata": {},
   "outputs": [],
   "source": [
    "# Limpeza de Dados Inconsistentes\n",
    "# Removemos linhas com valores NaN ou dados inconsistentes nas colunas que serão utilizadas nas análises seguintes.\n",
    "Crimes = Crimes[Crimes['Block'] != 'NaN']\n",
    "Crimes = Crimes[Crimes['Primary Type'] != 'THEFT']\n",
    "Crimes = Crimes[Crimes['Latitude'].notna()]\n",
    "Crimes = Crimes[Crimes['Longitude'].notna()]\n",
    "Crimes = Crimes[Crimes['Description'].notna()]\n",
    "Crimes = Crimes[Crimes['Location Description'] != 'NaN']"
   ]
  },
  {
   "cell_type": "code",
   "execution_count": null,
   "metadata": {},
   "outputs": [],
   "source": [
    "# Correlação com a Base de Dados de Sex Offenders\n",
    "Crimes['Crime'] = Crimes['Block'].isin(db['BLOCK']).map({True: '1', False: '0'})\n",
    "db['Crime'] = Crimes['Block'].isin(db['BLOCK']).map({True: '1', False: '0'})\n",
    "db['Crime'] = db['Crime'].fillna(0)"
   ]
  },
  {
   "cell_type": "code",
   "execution_count": null,
   "metadata": {},
   "outputs": [],
   "source": [
    "# Criação de um Dicionário para Tipos de Crimes\n",
    "crime_types = dict(zip(Crimes['Block'], Crimes['Location Description']))"
   ]
  },
  {
   "cell_type": "code",
   "execution_count": null,
   "metadata": {},
   "outputs": [],
   "source": [
    "# Adição de Coluna com Tipos de Crime\n",
    "\n",
    "db['Local_do_Crime'] = db['BLOCK'].map(crime_types).fillna('Não Identificado')"
   ]
  }
 ],
 "metadata": {
  "kernelspec": {
   "display_name": "Python 3",
   "language": "python",
   "name": "python3"
  },
  "language_info": {
   "name": "python",
   "version": "3.10.12"
  }
 },
 "nbformat": 4,
 "nbformat_minor": 2
}
