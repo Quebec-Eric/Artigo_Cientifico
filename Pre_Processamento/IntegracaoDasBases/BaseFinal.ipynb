{
 "cells": [
  {
   "cell_type": "markdown",
   "metadata": {},
   "source": [
    "#Pré-processamento dos dados da base de dados ParaClasificacao.csv"
   ]
  },
  {
   "cell_type": "code",
   "execution_count": null,
   "metadata": {},
   "outputs": [],
   "source": [
    "# Importação das Bibliotecas Necessárias\n",
    "import pandas as pd\n",
    "from sklearn.preprocessing import LabelEncoder"
   ]
  },
  {
   "cell_type": "code",
   "execution_count": null,
   "metadata": {},
   "outputs": [],
   "source": [
    "# Carregamento da Base de Dados\n",
    "df = pd.read_csv('BaseDados/ParaClasificacao.csv')"
   ]
  },
  {
   "cell_type": "code",
   "execution_count": null,
   "metadata": {},
   "outputs": [],
   "source": [
    "# Transformação de Variáveis Categóricas em Numéricas\n",
    "# Mudança da variável 'VICTIM MINOR' de Y/N para 1/0.\n",
    "df['VICTIM MINOR'] = df['VICTIM MINOR'].map({'Y': 1, 'N': 0})"
   ]
  },
  {
   "cell_type": "code",
   "execution_count": null,
   "metadata": {},
   "outputs": [],
   "source": [
    "# Utilização do LabelEncoder para transformar a variável 'RACE' em uma variável numérica 'RACE Int'.\n",
    "le = LabelEncoder()\n",
    "df['RACE Int'] = le.fit_transform(df['RACE'])"
   ]
  },
  {
   "cell_type": "code",
   "execution_count": null,
   "metadata": {},
   "outputs": [],
   "source": [
    "# Análise de Relação entre Gênero e Raça\n",
    "# Criação de uma tabela cruzada entre as variáveis 'GENDER' e 'RACE'.\n",
    "ct = pd.crosstab(df['GENDER'], df['RACE'])\n",
    "print(ct)\n"
   ]
  },
  {
   "cell_type": "code",
   "execution_count": null,
   "metadata": {},
   "outputs": [],
   "source": [
    "# Definição da Função para Categorizar a Idade\n",
    "def age_superior(age):\n",
    "    if age >= 40:\n",
    "        return 1\n",
    "    else:\n",
    "        return 0\n",
    "\n",
    "df['AGE Superior'] = df['AGE'].apply(age_superior)"
   ]
  }
 ],
 "metadata": {
  "language_info": {
   "name": "python"
  }
 },
 "nbformat": 4,
 "nbformat_minor": 2
}
