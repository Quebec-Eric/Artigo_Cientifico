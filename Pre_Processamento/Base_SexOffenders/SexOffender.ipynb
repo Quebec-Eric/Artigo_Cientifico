{
 "cells": [
  {
   "cell_type": "markdown",
   "metadata": {},
   "source": [
    "#Pré-processamento dos dados da base de dados Sex_Offenders.csv"
   ]
  },
  {
   "cell_type": "code",
   "execution_count": null,
   "metadata": {},
   "outputs": [],
   "source": [
    "# Importação das Bibliotecas Necessárias\n",
    "import pandas as pd\n",
    "from datetime import datetime, date\n",
    "from geopy.geocoders import Nominatim\n",
    "import numpy as np\n"
   ]
  },
  {
   "cell_type": "code",
   "execution_count": null,
   "metadata": {},
   "outputs": [],
   "source": [
    "# Carregamento da Base de Dados de Agressores Sexuais\n",
    "df = pd.read_csv(\"Sex_Offenders.csv\")\n",
    "df.head()"
   ]
  },
  {
   "cell_type": "code",
   "execution_count": null,
   "metadata": {},
   "outputs": [],
   "source": [
    "# Remoção de Colunas de Nome e Sobrenome\n",
    "# As colunas 'FIRST' e 'LAST' são removidas para proteger a privacidade dos indivíduos.\n",
    "df.pop(\"FIRST\")\n",
    "df.pop(\"LAST\")"
   ]
  },
  {
   "cell_type": "code",
   "execution_count": null,
   "metadata": {},
   "outputs": [],
   "source": [
    "# Cálculo da Idade a partir da Data de Nascimento\n",
    "def age(born):\n",
    "    born = datetime.strptime(born, \"%m/%d/%Y\").date()\n",
    "    today = date.today()\n",
    "    return today.year - born.year - ((today.month, today.day) < (born.month, born.day))\n",
    "\n",
    "df['AGE'] = df['BIRTH DATE'].apply(age)"
   ]
  },
  {
   "cell_type": "code",
   "execution_count": null,
   "metadata": {},
   "outputs": [],
   "source": [
    "# Limpeza de Endereços Inconsistentes\n",
    "df = df[df['BLOCK'].str.contains('HOMELESS') == False]\n",
    "df = df[df['BLOCK'].str.contains('NaN') == False]\n",
    "df = df[df['BLOCK'].str.contains('(registered as homeless)') == False]\n",
    "df = df[df['BLOCK'].str.contains('(No value)') == False]"
   ]
  },
  {
   "cell_type": "code",
   "execution_count": null,
   "metadata": {},
   "outputs": [],
   "source": [
    "geolocalizador = Nominatim(user_agent=\"Agressoes_sexuais\")"
   ]
  },
  {
   "cell_type": "code",
   "execution_count": null,
   "metadata": {},
   "outputs": [],
   "source": [
    "# Definição de Funções para Obtenção de Coordenadas\n",
    "def pegarTodoEndereco(cordenada):\n",
    "    localizacao = geolocalizador.reverse(cordenada, exactly_one=True)\n",
    "    address = localizacao.raw['address']\n",
    "    city = address.get('city', '')\n",
    "    stage = address.get('stage', '')\n",
    "    return city, stage\n",
    "\n",
    "def pegarLatitudeeLongitude(block):\n",
    "    global lat_long\n",
    "    global block_remover\n",
    "    try:\n",
    "        novo_block = str(block)[4:]\n",
    "        address = str(novo_block) + '. Chicago'\n",
    "        location = geolocalizador.geocode(address)\n",
    "        lat = location.latitude\n",
    "        long = location.longitude\n",
    "        city, stage = pegarTodoEndereco(f\"{lat},{long}\")\n",
    "        if(city == 'Chicago'):\n",
    "            lat_long.append([lat, long])\n",
    "        else:\n",
    "            lat_long.append([0, 0])\n",
    "    except Exception as e:\n",
    "        block_remover.append(block)\n"
   ]
  },
  {
   "cell_type": "code",
   "execution_count": null,
   "metadata": {},
   "outputs": [],
   "source": [
    "# Aplicação das Funções para Obtenção das Coordenadas\n",
    "lat_long = []\n",
    "block_remover = []\n",
    "df['BLOCK'].apply(pegarLatitudeeLongitude)"
   ]
  },
  {
   "cell_type": "code",
   "execution_count": null,
   "metadata": {},
   "outputs": [],
   "source": [
    "# Remoção de Endereços Sem Coordenadas Válidas\n",
    "for block in block_remover:\n",
    "    df = df.drop(df[df['BLOCK'] == block].index)"
   ]
  },
  {
   "cell_type": "code",
   "execution_count": null,
   "metadata": {},
   "outputs": [],
   "source": [
    "# Atribuição das Coordenadas ao DataFrame\n",
    "lat_long = np.array(lat_long)\n",
    "df['LAT'] = lat_long[:, 0]\n",
    "df['LONG'] = lat_long[:, 1]"
   ]
  },
  {
   "cell_type": "code",
   "execution_count": null,
   "metadata": {},
   "outputs": [],
   "source": [
    "# Limpeza Final do DataFrame\n",
    "df = df.drop(df[df['LAT'] == 0].index)\n",
    "df = df.reset_index(drop=True)"
   ]
  }
 ],
 "metadata": {
  "kernelspec": {
   "display_name": "Python 3",
   "language": "python",
   "name": "python3"
  },
  "language_info": {
   "name": "python",
   "version": "3.10.12"
  }
 },
 "nbformat": 4,
 "nbformat_minor": 2
}
