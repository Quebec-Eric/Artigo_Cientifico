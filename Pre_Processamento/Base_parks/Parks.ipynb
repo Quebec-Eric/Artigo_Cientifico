{
 "cells": [
  {
   "cell_type": "markdown",
   "metadata": {},
   "source": [
    "#Pré-processamento dos dados da base de dados CPD_Parks.csv"
   ]
  },
  {
   "cell_type": "code",
   "execution_count": null,
   "metadata": {},
   "outputs": [],
   "source": [
    "# Importação das Bibliotecas Necessárias\n",
    "import pandas as pd\n",
    "import shapely.wkt\n",
    "import geopandas as gpd\n",
    "from geopy.distance import geodesic\n",
    "import numpy as np\n"
   ]
  },
  {
   "cell_type": "code",
   "execution_count": null,
   "metadata": {},
   "outputs": [],
   "source": [
    "#carregar od Dados\n",
    "# Foi tranfomado a coluna'the_geom' de WKT para objetos geométricos utilizando a biblioteca shapely.\n",
    "\n",
    "df = pd.read_csv(\"CPD_Parks.csv\")\n",
    "df['geometry'] = df['the_geom'].apply(lambda x: shapely.wkt.loads(x))"
   ]
  },
  {
   "cell_type": "code",
   "execution_count": null,
   "metadata": {},
   "outputs": [],
   "source": [
    "# Conversão para GeoDataFrame\n",
    "\n",
    "gdf = gpd.GeoDataFrame(df, geometry='geometry')\n",
    "gdf = gdf.set_crs('epsg:4326')"
   ]
  },
  {
   "cell_type": "code",
   "execution_count": null,
   "metadata": {},
   "outputs": [],
   "source": [
    "# Extração de Latitude e Longitude\n",
    "\n",
    "df['Latitude'] = gdf['geometry'].apply(lambda geom: geom.centroid.y if geom.geometryType() in ['Polygon', 'MultiPolygon'] else geom.y)\n",
    "df['Longitude'] = gdf['geometry'].apply(lambda geom: geom.centroid.x if geom.geometryType() in ['Polygon', 'MultiPolygon'] else geom.x)"
   ]
  },
  {
   "cell_type": "code",
   "execution_count": null,
   "metadata": {},
   "outputs": [],
   "source": [
    "# Função para Calcular Distância entre dois pontos geográficos em quilômetros.\n",
    "def calcular_distancia(coord1, coord2):\n",
    "    return geodesic(coord1, coord2).km"
   ]
  },
  {
   "cell_type": "code",
   "execution_count": null,
   "metadata": {},
   "outputs": [],
   "source": [
    "# Análise de Distância entre Parques e Pontos de Interesse\n",
    "# Foi calculada a distância mínima para um parque, onde foi verificado a existência de parques dentro de um intervalo específico\n",
    "\n",
    "\n",
    "\n",
    "entre2e10 = []\n",
    "dist_minimas = []\n",
    "dist_maior_2km = []\n",
    "saber=''\n",
    "for i in range(len(db)):\n",
    "    lat1, long1 = db.loc[i, 'LAT'], db.loc[i, 'LONG']\n",
    "    coord1 = (lat1, long1)\n",
    "    dist_min = np.inf\n",
    "    dist_maior = 0\n",
    "    for j in range(len(df)):\n",
    "        lat2, long2 = df.loc[j, 'Latitude'], df.loc[j, 'Longitude']\n",
    "        coord2 = (lat2, long2)\n",
    "        dist = calcular_distancia(coord1, coord2)\n",
    "        if dist < dist_min:\n",
    "            dist_min = dist\n",
    "        if dist > 2 and dist > dist_maior and dist < 10:\n",
    "            dist_maior = dist\n",
    "        if dist >= 2 and dist <= 10:\n",
    "            saber='1'\n",
    "        else:\n",
    "            saber='0'\n",
    "    entre2e10.append(saber)\n",
    "    dist_minimas.append(dist_min)\n",
    "    dist_maior_2km.append(dist_maior)\n",
    "\n",
    "db['Menor Distancia'] = dist_minimas\n",
    "db['Existencia de Pracas'] = entre2e10\n",
    "db['Maior Distancia > 2km'] = dist_maior_2km"
   ]
  }
 ],
 "metadata": {
  "language_info": {
   "name": "python"
  }
 },
 "nbformat": 4,
 "nbformat_minor": 2
}
