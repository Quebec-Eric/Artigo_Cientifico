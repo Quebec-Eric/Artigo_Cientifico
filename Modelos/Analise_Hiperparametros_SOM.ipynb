{
 "cells": [
  {
   "cell_type": "markdown",
   "metadata": {},
   "source": [
    "#Codigo para encontrar o melhores Hiperparametros para o SOM"
   ]
  },
  {
   "cell_type": "code",
   "execution_count": null,
   "metadata": {},
   "outputs": [],
   "source": [
    "# Importação das Bibliotecas Necessárias\n",
    "import numpy as np\n",
    "import matplotlib.pyplot as plt\n",
    "from minisom import MiniSom\n",
    "from sklearn.preprocessing import StandardScaler\n",
    "import pandas as pd\n"
   ]
  },
  {
   "cell_type": "code",
   "execution_count": null,
   "metadata": {},
   "outputs": [],
   "source": [
    "# Normalização dos Dados\n",
    "scaler = StandardScaler()\n",
    "data_scaled = scaler.fit_transform(df)"
   ]
  },
  {
   "cell_type": "code",
   "execution_count": null,
   "metadata": {},
   "outputs": [],
   "source": [
    "# Configuração dos Hiperparâmetros para Teste\n",
    "dimensions = [(5, 5), (10, 10), (15, 15), (20, 20)]  # Dimensões da grade SOM\n",
    "sigmas = [0.1, 1.0, 10.0]  # Variações do parâmetro sigma\n",
    "learning_rates = [0.1, 0.5, 1.0]  # Taxas de aprendizagem"
   ]
  },
  {
   "cell_type": "code",
   "execution_count": null,
   "metadata": {},
   "outputs": [],
   "source": [
    "\n",
    "q_errors = {}\n",
    "\n",
    "# Loop para Treinar o SOM com Diferentes Hiperparâmetros\n",
    "for dim in dimensions:\n",
    "    for sigma in sigmas:\n",
    "        for learning_rate in learning_rates:\n",
    "            som = MiniSom(dim[0], dim[1], input_len=data_scaled.shape[1], sigma=sigma, learning_rate=learning_rate)\n",
    "            som.train(data_scaled, 1000, verbose=False)\n",
    "            q_error = som.quantization_error(data_scaled)\n",
    "            q_errors[(dim, sigma, learning_rate)] = q_error"
   ]
  },
  {
   "cell_type": "code",
   "execution_count": null,
   "metadata": {},
   "outputs": [],
   "source": [
    "# Visualização dos Resultados\n",
    "for dim in dimensions:\n",
    "    errors = np.array([q_errors[(dim, sigma, lr)] for sigma in sigmas for lr in learning_rates]).reshape(len(sigmas), len(learning_rates))\n",
    "    \n",
    "    plt.figure(figsize=(8, 6))\n",
    "    plt.title(f'Erro de Quantização - SOM {dim[0]}x{dim[1]}', fontsize=16)\n",
    "    plt.xlabel('Taxa de Aprendizagem', fontsize=14)\n",
    "    plt.ylabel('Sigma', fontsize=14)\n",
    "    plt.xticks(np.arange(len(learning_rates)), labels=learning_rates)\n",
    "    plt.yticks(np.arange(len(sigmas)), labels=sigmas)\n",
    "    c = plt.pcolormesh(errors, cmap='coolwarm')\n",
    "    plt.colorbar(c)\n",
    "    plt.show()"
   ]
  }
 ],
 "metadata": {
  "language_info": {
   "name": "python"
  }
 },
 "nbformat": 4,
 "nbformat_minor": 2
}
